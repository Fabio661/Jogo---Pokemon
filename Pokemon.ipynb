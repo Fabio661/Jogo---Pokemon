{
  "nbformat": 4,
  "nbformat_minor": 0,
  "metadata": {
    "colab": {
      "provenance": []
    },
    "kernelspec": {
      "name": "python3",
      "display_name": "Python 3"
    },
    "language_info": {
      "name": "python"
    }
  },
  "cells": [
    {
      "cell_type": "code",
      "source": [
        "import time\n",
        "import random\n",
        "\n",
        "from typing_extensions import Self"
      ],
      "metadata": {
        "id": "pzJxGr5TJCon"
      },
      "execution_count": 5,
      "outputs": []
    },
    {
      "cell_type": "code",
      "source": [
        "def combate(self):\n",
        " \n",
        "  pokemon_vida = 100\n",
        "  pikachu_vida = 100\n",
        "  pokemon_ataque = 50\n",
        "  pikachu_ataque = 40\n",
        "  pokemon_curar = 10\n",
        "\n",
        "  acao = 0\n",
        "  print(\"A batalha começou\")\n",
        "  while acao != 2:   \n",
        "    if pikachu_vida <= 0:\n",
        "      time.sleep(0.8)\n",
        "      print(\"Parabens, você derrotou o pikachu\")     \n",
        "      capturar(pikachu_vida)\n",
        "      break\n",
        "\n",
        "    elif pokemon_vida <= 0:\n",
        "      time.sleep(0.8)\n",
        "      print(\"Infelizmente seu pokemon foi derrotado, você perdeu\")\n",
        "      break\n",
        "\n",
        "    time.sleep(0.8)\n",
        "    print(\"Essa é sua rodada\")\n",
        "    print(\"\"\"[atacar]\n",
        "[curar]\"\"\")\n",
        "     \n",
        "    atitude = input(\"Qual sua ação? \")\n",
        "    if atitude == \"atacar\":\n",
        "      pikachu_vida = pikachu_vida - pokemon_ataque\n",
        "      time.sleep(0.8)\n",
        "      print(\"Você causou 50 de dano\")\n",
        "\n",
        "    elif atitude == \"curar\":\n",
        "      pokemon_vida = pokemon_vida + pokemon_curar\n",
        "      time.sleep(0.8)\n",
        "      print(\"Você curou 20 de vida\")\n",
        "      print(\"\\n\")\n",
        "\n",
        "    else:\n",
        "      print(\"Opção invalida!\")\n",
        "    \n",
        "    print(\"\\n\")\n",
        "    time.sleep(0.8)\n",
        "    if pikachu_vida >0:\n",
        "      print(\"Rodada do pikachu\")\n",
        "      time.sleep(0.8)\n",
        "      pokemon_vida = pokemon_vida - pikachu_ataque\n",
        "      print(f\"Pikachu causou 40 de dano\")\n",
        "      print(\"\\n\")   "
      ],
      "metadata": {
        "id": "hJfX0-n6dGac"
      },
      "execution_count": 87,
      "outputs": []
    },
    {
      "cell_type": "code",
      "source": [
        "def capturar(pikachu_vida):\n",
        "  pokemons = [\"Charmander\", \"Squirtle\", \"Bulbasaur\"]\n",
        "  escolha = 0\n",
        "  if pikachu_vida <= 0:\n",
        "    print(\"Você quer tentar capturar?\")\n",
        "    print(\"\"\"[1] jogar pokebola\n",
        "[2] nao estou afim\"\"\")\n",
        "    while escolha != 2:\n",
        "      escolha = input()\n",
        "      if escolha == str(1):\n",
        "        capturado = random.choice([\"pikachu capturado com sucesso!\", \"pikachu escapou\"])\n",
        "        if capturado == \"pikachu capturado com sucesso!\":\n",
        "          pokemons.append(\"pikachu\")\n",
        "        print(capturado)\n",
        "        print(\"pokemons: \", pokemons)\n",
        "        print(\"\\n\")   \n",
        "        print(\"Obrigado por Jogar\")\n",
        "        break\n",
        "            \n",
        "      elif escolha == str(2):\n",
        "        print(\"OK, obrigado por Jogar\")\n",
        "        break\n",
        "      \n",
        "      else:\n",
        "        print(\"Opção ivalida, vamos tentar mais uma vez\")                 "
      ],
      "metadata": {
        "id": "wmIYqsR2Ty9m"
      },
      "execution_count": 86,
      "outputs": []
    },
    {
      "cell_type": "code",
      "execution_count": 90,
      "metadata": {
        "id": "uA1z-IgoFM8v",
        "colab": {
          "base_uri": "https://localhost:8080/",
          "height": 380
        },
        "outputId": "fa9d43c2-1449-4875-cc83-607d58a8a315"
      },
      "outputs": [
        {
          "output_type": "error",
          "ename": "KeyboardInterrupt",
          "evalue": "ignored",
          "traceback": [
            "\u001b[0;31m---------------------------------------------------------------------------\u001b[0m",
            "\u001b[0;31mKeyboardInterrupt\u001b[0m                         Traceback (most recent call last)",
            "\u001b[0;32m<ipython-input-90-e2b4cff00f55>\u001b[0m in \u001b[0;36m<module>\u001b[0;34m\u001b[0m\n\u001b[0;32m----> 1\u001b[0;31m \u001b[0mjogador_1\u001b[0m \u001b[0;34m=\u001b[0m \u001b[0mstr\u001b[0m\u001b[0;34m(\u001b[0m\u001b[0minput\u001b[0m\u001b[0;34m(\u001b[0m\u001b[0;34m\"Informe seu nick: \"\u001b[0m\u001b[0;34m)\u001b[0m\u001b[0;34m)\u001b[0m\u001b[0;34m\u001b[0m\u001b[0;34m\u001b[0m\u001b[0m\n\u001b[0m\u001b[1;32m      2\u001b[0m \u001b[0;34m\u001b[0m\u001b[0m\n\u001b[1;32m      3\u001b[0m \u001b[0;34m\u001b[0m\u001b[0m\n\u001b[1;32m      4\u001b[0m \u001b[0;32mdef\u001b[0m \u001b[0mbatalha\u001b[0m\u001b[0;34m(\u001b[0m\u001b[0mjogador_1\u001b[0m\u001b[0;34m)\u001b[0m\u001b[0;34m:\u001b[0m\u001b[0;34m\u001b[0m\u001b[0;34m\u001b[0m\u001b[0m\n\u001b[1;32m      5\u001b[0m \u001b[0;34m\u001b[0m\u001b[0m\n",
            "\u001b[0;32m/usr/local/lib/python3.8/dist-packages/ipykernel/kernelbase.py\u001b[0m in \u001b[0;36mraw_input\u001b[0;34m(self, prompt)\u001b[0m\n\u001b[1;32m    858\u001b[0m                 \u001b[0;34m\"raw_input was called, but this frontend does not support input requests.\"\u001b[0m\u001b[0;34m\u001b[0m\u001b[0;34m\u001b[0m\u001b[0m\n\u001b[1;32m    859\u001b[0m             )\n\u001b[0;32m--> 860\u001b[0;31m         return self._input_request(str(prompt),\n\u001b[0m\u001b[1;32m    861\u001b[0m             \u001b[0mself\u001b[0m\u001b[0;34m.\u001b[0m\u001b[0m_parent_ident\u001b[0m\u001b[0;34m,\u001b[0m\u001b[0;34m\u001b[0m\u001b[0;34m\u001b[0m\u001b[0m\n\u001b[1;32m    862\u001b[0m             \u001b[0mself\u001b[0m\u001b[0;34m.\u001b[0m\u001b[0m_parent_header\u001b[0m\u001b[0;34m,\u001b[0m\u001b[0;34m\u001b[0m\u001b[0;34m\u001b[0m\u001b[0m\n",
            "\u001b[0;32m/usr/local/lib/python3.8/dist-packages/ipykernel/kernelbase.py\u001b[0m in \u001b[0;36m_input_request\u001b[0;34m(self, prompt, ident, parent, password)\u001b[0m\n\u001b[1;32m    902\u001b[0m             \u001b[0;32mexcept\u001b[0m \u001b[0mKeyboardInterrupt\u001b[0m\u001b[0;34m:\u001b[0m\u001b[0;34m\u001b[0m\u001b[0;34m\u001b[0m\u001b[0m\n\u001b[1;32m    903\u001b[0m                 \u001b[0;31m# re-raise KeyboardInterrupt, to truncate traceback\u001b[0m\u001b[0;34m\u001b[0m\u001b[0;34m\u001b[0m\u001b[0;34m\u001b[0m\u001b[0m\n\u001b[0;32m--> 904\u001b[0;31m                 \u001b[0;32mraise\u001b[0m \u001b[0mKeyboardInterrupt\u001b[0m\u001b[0;34m(\u001b[0m\u001b[0;34m\"Interrupted by user\"\u001b[0m\u001b[0;34m)\u001b[0m \u001b[0;32mfrom\u001b[0m \u001b[0;32mNone\u001b[0m\u001b[0;34m\u001b[0m\u001b[0;34m\u001b[0m\u001b[0m\n\u001b[0m\u001b[1;32m    905\u001b[0m             \u001b[0;32mexcept\u001b[0m \u001b[0mException\u001b[0m \u001b[0;32mas\u001b[0m \u001b[0me\u001b[0m\u001b[0;34m:\u001b[0m\u001b[0;34m\u001b[0m\u001b[0;34m\u001b[0m\u001b[0m\n\u001b[1;32m    906\u001b[0m                 \u001b[0mself\u001b[0m\u001b[0;34m.\u001b[0m\u001b[0mlog\u001b[0m\u001b[0;34m.\u001b[0m\u001b[0mwarning\u001b[0m\u001b[0;34m(\u001b[0m\u001b[0;34m\"Invalid Message:\"\u001b[0m\u001b[0;34m,\u001b[0m \u001b[0mexc_info\u001b[0m\u001b[0;34m=\u001b[0m\u001b[0;32mTrue\u001b[0m\u001b[0;34m)\u001b[0m\u001b[0;34m\u001b[0m\u001b[0;34m\u001b[0m\u001b[0m\n",
            "\u001b[0;31mKeyboardInterrupt\u001b[0m: Interrupted by user"
          ]
        }
      ],
      "source": [
        "jogador_1 = str(input(\"Informe seu nick: \"))\n",
        "\n",
        "\n",
        "def batalha(jogador_1):\n",
        "\n",
        "  print(f\"{jogador_1} você estava explorando seu quintal quando derrepente se depara com um pikachu raivoso, ele quer batalhar, você aceita?\")\n",
        "  print(\"\"\"[s] aceito batalhar\n",
        "[n] fugir\"\"\")\n",
        "  opcao = 0\n",
        "  while opcao != 2:\n",
        "    opcao = input()    \n",
        "    if opcao == \"n\":\n",
        "      print(f\"{jogador_1} você é um covarde, meus parabens sua fuga foi um sucesso\") \n",
        "      break\n",
        "\n",
        "    elif opcao == \"s\":            \n",
        "      pokemon = 0\n",
        "      print(\"Batalha iniciada\")\n",
        "      while pokemon != 2:\n",
        "        time.sleep(0.8)       \n",
        "        print(\"\")\n",
        "        print(\"Escolha seu Pokemon\")\n",
        "        time.sleep(0.5)\n",
        "        print(\"\"\"[1] Charmander\n",
        "[2] Squirtle\n",
        "[3] Bulbasaur\"\"\")\n",
        "        print(\"\\n\")\n",
        "        pokemon = input()\n",
        "\n",
        "        if pokemon == str(1):\n",
        "          print(\"Charmander foi o escolhido\")\n",
        "          pokemon = \"Charmander\"\n",
        "          time.sleep(0.8)\n",
        "          print(\"\\n\")\n",
        "          combate(Self)\n",
        "          break\n",
        "       \n",
        "        elif pokemon == str(2):\n",
        "          print(\"Squirtle foi o escolhido\")\n",
        "          pokemon = \"Squirtle\"\n",
        "          time.sleep(0.8)\n",
        "          print(\"\\n\")\n",
        "          combate(Self)\n",
        "          break\n",
        "       \n",
        "        elif pokemon == str(3):\n",
        "          print(\"Bulbasaur foi o escolhido\")\n",
        "          pokemon = \"Bulbasaur\"\n",
        "          time.sleep(0.8)\n",
        "          print(\"\\n\")\n",
        "          combate(Self)\n",
        "          break       \n",
        "       \n",
        "        else:\n",
        "          print(\"Opção invalida, vamos tentar denovo\")\n",
        "    else:  \n",
        "     print(\"Opção invalida, tente novamente\")\n",
        "\n",
        "    break\n",
        "     \n",
        "batalha(jogador_1)"
      ]
    },
    {
      "cell_type": "code",
      "source": [],
      "metadata": {
        "id": "0KAH40yib4--"
      },
      "execution_count": null,
      "outputs": []
    }
  ]
}